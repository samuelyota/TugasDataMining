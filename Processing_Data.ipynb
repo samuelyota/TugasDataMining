{
  "nbformat": 4,
  "nbformat_minor": 0,
  "metadata": {
    "colab": {
      "name": "Processing Data.ipynb",
      "provenance": [],
      "collapsed_sections": [],
      "authorship_tag": "ABX9TyNJHzDqi8vSepBrvsxF5L6P",
      "include_colab_link": true
    },
    "kernelspec": {
      "name": "python3",
      "display_name": "Python 3"
    },
    "language_info": {
      "name": "python"
    },
    "accelerator": "GPU"
  },
  "cells": [
    {
      "cell_type": "markdown",
      "metadata": {
        "id": "view-in-github",
        "colab_type": "text"
      },
      "source": [
        "<a href=\"https://colab.research.google.com/github/samuelyota/TugasDataMining/blob/main/Processing_Data.ipynb\" target=\"_parent\"><img src=\"https://colab.research.google.com/assets/colab-badge.svg\" alt=\"Open In Colab\"/></a>"
      ]
    },
    {
      "cell_type": "code",
      "execution_count": 1,
      "metadata": {
        "id": "8Fh5dKU02zP1"
      },
      "outputs": [],
      "source": [
        "import pandas as pd\n",
        "import matplotlib.pyplot as plt\n",
        "import numpy as np"
      ]
    },
    {
      "cell_type": "code",
      "source": [
        "dataset=pd.read_csv('data.csv')\n",
        "X=dataset.iloc[:, :-1].values\n",
        "y=dataset.iloc[:, -1].values"
      ],
      "metadata": {
        "id": "CTS4fhzI3UKB"
      },
      "execution_count": 2,
      "outputs": []
    },
    {
      "cell_type": "code",
      "source": [
        "print(X)"
      ],
      "metadata": {
        "id": "9PdQFQH66EQb",
        "colab": {
          "base_uri": "https://localhost:8080/"
        },
        "outputId": "84cfb2b3-ef1f-4576-c011-9510fe19cb55"
      },
      "execution_count": 3,
      "outputs": [
        {
          "output_type": "stream",
          "name": "stdout",
          "text": [
            "[['Beras' 44.0 72000.0]\n",
            " ['Minyak' 27.0 48000.0]\n",
            " ['Gula' 30.0 54000.0]\n",
            " ['IkanLele' 38.0 61000.0]\n",
            " ['Telor' 40.0 nan]\n",
            " ['Bawang Merah' 35.0 58000.0]\n",
            " ['Tepung' nan 52000.0]\n",
            " ['DagingKambing' 48.0 79000.0]\n",
            " ['DagingSapi' 50.0 83000.0]\n",
            " ['IkanBandeng' 37.0 67000.0]]\n"
          ]
        }
      ]
    },
    {
      "cell_type": "code",
      "source": [
        "print(y)"
      ],
      "metadata": {
        "id": "_Kwdhpfc6H_w",
        "colab": {
          "base_uri": "https://localhost:8080/"
        },
        "outputId": "b38c7ca7-3edc-4207-fbd6-3b2f17ff0929"
      },
      "execution_count": 4,
      "outputs": [
        {
          "output_type": "stream",
          "name": "stdout",
          "text": [
            "['No' 'Yes' 'No' 'No' 'Yes' 'Yes' 'No' 'Yes' 'No' 'Yes']\n"
          ]
        }
      ]
    },
    {
      "cell_type": "code",
      "source": [
        "from sklearn.impute import SimpleImputer\n",
        "imputer=SimpleImputer(missing_values=np.nan, strategy='mean')\n",
        "imputer.fit(X[:, 1:3])\n",
        "X[:, 1:3] = imputer.transform(X[:, 1:3])"
      ],
      "metadata": {
        "id": "_0TaHYmn6MTM"
      },
      "execution_count": 5,
      "outputs": []
    },
    {
      "cell_type": "code",
      "source": [
        "print(X)"
      ],
      "metadata": {
        "id": "pzgsbU1iCkaT",
        "colab": {
          "base_uri": "https://localhost:8080/"
        },
        "outputId": "bd35564b-c85d-43e7-a750-95cfe728dbb2"
      },
      "execution_count": 6,
      "outputs": [
        {
          "output_type": "stream",
          "name": "stdout",
          "text": [
            "[['Beras' 44.0 72000.0]\n",
            " ['Minyak' 27.0 48000.0]\n",
            " ['Gula' 30.0 54000.0]\n",
            " ['IkanLele' 38.0 61000.0]\n",
            " ['Telor' 40.0 63777.77777777778]\n",
            " ['Bawang Merah' 35.0 58000.0]\n",
            " ['Tepung' 38.77777777777778 52000.0]\n",
            " ['DagingKambing' 48.0 79000.0]\n",
            " ['DagingSapi' 50.0 83000.0]\n",
            " ['IkanBandeng' 37.0 67000.0]]\n"
          ]
        }
      ]
    },
    {
      "cell_type": "code",
      "source": [
        "from sklearn.compose import ColumnTransformer\n",
        "from sklearn.preprocessing import OneHotEncoder\n",
        "ct = ColumnTransformer(transformers=[('encoder', OneHotEncoder(), [0])], remainder='passthrough')\n",
        "X = ct.fit_transform(X).toarray()"
      ],
      "metadata": {
        "id": "8mhYKuK_CmuI"
      },
      "execution_count": 8,
      "outputs": []
    },
    {
      "cell_type": "code",
      "source": [
        "print(X)"
      ],
      "metadata": {
        "id": "6JQI1gWhD2Xu",
        "colab": {
          "base_uri": "https://localhost:8080/"
        },
        "outputId": "b9a3f66c-9d27-439e-ddf3-9b4391593dda"
      },
      "execution_count": 9,
      "outputs": [
        {
          "output_type": "stream",
          "name": "stdout",
          "text": [
            "[[0.00000000e+00 1.00000000e+00 0.00000000e+00 0.00000000e+00\n",
            "  0.00000000e+00 0.00000000e+00 0.00000000e+00 0.00000000e+00\n",
            "  0.00000000e+00 0.00000000e+00 4.40000000e+01 7.20000000e+04]\n",
            " [0.00000000e+00 0.00000000e+00 0.00000000e+00 0.00000000e+00\n",
            "  0.00000000e+00 0.00000000e+00 0.00000000e+00 1.00000000e+00\n",
            "  0.00000000e+00 0.00000000e+00 2.70000000e+01 4.80000000e+04]\n",
            " [0.00000000e+00 0.00000000e+00 0.00000000e+00 0.00000000e+00\n",
            "  1.00000000e+00 0.00000000e+00 0.00000000e+00 0.00000000e+00\n",
            "  0.00000000e+00 0.00000000e+00 3.00000000e+01 5.40000000e+04]\n",
            " [0.00000000e+00 0.00000000e+00 0.00000000e+00 0.00000000e+00\n",
            "  0.00000000e+00 0.00000000e+00 1.00000000e+00 0.00000000e+00\n",
            "  0.00000000e+00 0.00000000e+00 3.80000000e+01 6.10000000e+04]\n",
            " [0.00000000e+00 0.00000000e+00 0.00000000e+00 0.00000000e+00\n",
            "  0.00000000e+00 0.00000000e+00 0.00000000e+00 0.00000000e+00\n",
            "  1.00000000e+00 0.00000000e+00 4.00000000e+01 6.37777778e+04]\n",
            " [1.00000000e+00 0.00000000e+00 0.00000000e+00 0.00000000e+00\n",
            "  0.00000000e+00 0.00000000e+00 0.00000000e+00 0.00000000e+00\n",
            "  0.00000000e+00 0.00000000e+00 3.50000000e+01 5.80000000e+04]\n",
            " [0.00000000e+00 0.00000000e+00 0.00000000e+00 0.00000000e+00\n",
            "  0.00000000e+00 0.00000000e+00 0.00000000e+00 0.00000000e+00\n",
            "  0.00000000e+00 1.00000000e+00 3.87777778e+01 5.20000000e+04]\n",
            " [0.00000000e+00 0.00000000e+00 1.00000000e+00 0.00000000e+00\n",
            "  0.00000000e+00 0.00000000e+00 0.00000000e+00 0.00000000e+00\n",
            "  0.00000000e+00 0.00000000e+00 4.80000000e+01 7.90000000e+04]\n",
            " [0.00000000e+00 0.00000000e+00 0.00000000e+00 1.00000000e+00\n",
            "  0.00000000e+00 0.00000000e+00 0.00000000e+00 0.00000000e+00\n",
            "  0.00000000e+00 0.00000000e+00 5.00000000e+01 8.30000000e+04]\n",
            " [0.00000000e+00 0.00000000e+00 0.00000000e+00 0.00000000e+00\n",
            "  0.00000000e+00 1.00000000e+00 0.00000000e+00 0.00000000e+00\n",
            "  0.00000000e+00 0.00000000e+00 3.70000000e+01 6.70000000e+04]]\n"
          ]
        }
      ]
    },
    {
      "cell_type": "code",
      "source": [
        "from sklearn.preprocessing import LabelEncoder\n",
        "le = LabelEncoder()\n",
        "y = le.fit_transform(y)"
      ],
      "metadata": {
        "id": "XF0fE8VID4oh"
      },
      "execution_count": 10,
      "outputs": []
    },
    {
      "cell_type": "code",
      "source": [
        "print(y)"
      ],
      "metadata": {
        "id": "dmigS4RbE-Wu",
        "colab": {
          "base_uri": "https://localhost:8080/"
        },
        "outputId": "f124ff42-0fb1-4ebf-a23f-594749810041"
      },
      "execution_count": 11,
      "outputs": [
        {
          "output_type": "stream",
          "name": "stdout",
          "text": [
            "[0 1 0 0 1 1 0 1 0 1]\n"
          ]
        }
      ]
    },
    {
      "cell_type": "code",
      "source": [
        "from sklearn.model_selection import train_test_split\n",
        "X_train, X_test, y_train, y_test =train_test_split( X, y, test_size=0.2, random_state=1 )"
      ],
      "metadata": {
        "id": "rF0v8U6xFAia"
      },
      "execution_count": 12,
      "outputs": []
    },
    {
      "cell_type": "code",
      "source": [
        "print(X_train)"
      ],
      "metadata": {
        "id": "5L2X62N9O15H",
        "colab": {
          "base_uri": "https://localhost:8080/"
        },
        "outputId": "5b101205-3ec7-4a45-c825-61fdbc62d183"
      },
      "execution_count": 13,
      "outputs": [
        {
          "output_type": "stream",
          "name": "stdout",
          "text": [
            "[[0.00000000e+00 0.00000000e+00 0.00000000e+00 0.00000000e+00\n",
            "  0.00000000e+00 0.00000000e+00 0.00000000e+00 0.00000000e+00\n",
            "  0.00000000e+00 1.00000000e+00 3.87777778e+01 5.20000000e+04]\n",
            " [0.00000000e+00 0.00000000e+00 0.00000000e+00 0.00000000e+00\n",
            "  0.00000000e+00 0.00000000e+00 0.00000000e+00 0.00000000e+00\n",
            "  1.00000000e+00 0.00000000e+00 4.00000000e+01 6.37777778e+04]\n",
            " [0.00000000e+00 1.00000000e+00 0.00000000e+00 0.00000000e+00\n",
            "  0.00000000e+00 0.00000000e+00 0.00000000e+00 0.00000000e+00\n",
            "  0.00000000e+00 0.00000000e+00 4.40000000e+01 7.20000000e+04]\n",
            " [0.00000000e+00 0.00000000e+00 0.00000000e+00 0.00000000e+00\n",
            "  0.00000000e+00 0.00000000e+00 1.00000000e+00 0.00000000e+00\n",
            "  0.00000000e+00 0.00000000e+00 3.80000000e+01 6.10000000e+04]\n",
            " [0.00000000e+00 0.00000000e+00 0.00000000e+00 0.00000000e+00\n",
            "  0.00000000e+00 0.00000000e+00 0.00000000e+00 1.00000000e+00\n",
            "  0.00000000e+00 0.00000000e+00 2.70000000e+01 4.80000000e+04]\n",
            " [0.00000000e+00 0.00000000e+00 1.00000000e+00 0.00000000e+00\n",
            "  0.00000000e+00 0.00000000e+00 0.00000000e+00 0.00000000e+00\n",
            "  0.00000000e+00 0.00000000e+00 4.80000000e+01 7.90000000e+04]\n",
            " [0.00000000e+00 0.00000000e+00 0.00000000e+00 1.00000000e+00\n",
            "  0.00000000e+00 0.00000000e+00 0.00000000e+00 0.00000000e+00\n",
            "  0.00000000e+00 0.00000000e+00 5.00000000e+01 8.30000000e+04]\n",
            " [1.00000000e+00 0.00000000e+00 0.00000000e+00 0.00000000e+00\n",
            "  0.00000000e+00 0.00000000e+00 0.00000000e+00 0.00000000e+00\n",
            "  0.00000000e+00 0.00000000e+00 3.50000000e+01 5.80000000e+04]]\n"
          ]
        }
      ]
    },
    {
      "cell_type": "code",
      "source": [
        "print(X_test)"
      ],
      "metadata": {
        "id": "F8JCcBrvO442",
        "colab": {
          "base_uri": "https://localhost:8080/"
        },
        "outputId": "ca83a19a-2679-445f-b0d8-5d828cf63d48"
      },
      "execution_count": 14,
      "outputs": [
        {
          "output_type": "stream",
          "name": "stdout",
          "text": [
            "[[0.0e+00 0.0e+00 0.0e+00 0.0e+00 1.0e+00 0.0e+00 0.0e+00 0.0e+00 0.0e+00\n",
            "  0.0e+00 3.0e+01 5.4e+04]\n",
            " [0.0e+00 0.0e+00 0.0e+00 0.0e+00 0.0e+00 1.0e+00 0.0e+00 0.0e+00 0.0e+00\n",
            "  0.0e+00 3.7e+01 6.7e+04]]\n"
          ]
        }
      ]
    },
    {
      "cell_type": "code",
      "source": [
        "print(y_train)"
      ],
      "metadata": {
        "id": "0wwME7O_PArg",
        "colab": {
          "base_uri": "https://localhost:8080/"
        },
        "outputId": "2f8fdb28-dd12-4608-b48f-d569b20ed788"
      },
      "execution_count": 15,
      "outputs": [
        {
          "output_type": "stream",
          "name": "stdout",
          "text": [
            "[0 1 0 0 1 1 0 1]\n"
          ]
        }
      ]
    },
    {
      "cell_type": "code",
      "source": [
        "print(y_test)"
      ],
      "metadata": {
        "id": "NiLf8SK6PHHj",
        "colab": {
          "base_uri": "https://localhost:8080/"
        },
        "outputId": "721d6ff1-e106-46b9-f5e2-0db6d4840245"
      },
      "execution_count": 16,
      "outputs": [
        {
          "output_type": "stream",
          "name": "stdout",
          "text": [
            "[0 1]\n"
          ]
        }
      ]
    },
    {
      "cell_type": "code",
      "source": [
        "print(y_train)"
      ],
      "metadata": {
        "id": "3zaChO6XPI19",
        "colab": {
          "base_uri": "https://localhost:8080/"
        },
        "outputId": "93170c27-00d3-4b83-f96b-3aa60f702061"
      },
      "execution_count": 17,
      "outputs": [
        {
          "output_type": "stream",
          "name": "stdout",
          "text": [
            "[0 1 0 0 1 1 0 1]\n"
          ]
        }
      ]
    },
    {
      "cell_type": "code",
      "source": [
        "from sklearn.preprocessing import StandardScaler\n",
        "sc = StandardScaler()\n",
        "X_train [:, 3:]= sc.fit_transform(X_train[:, 3:])\n",
        "X_test [:, 3:] = sc.transform(X_test[:, 3:])"
      ],
      "metadata": {
        "id": "cUl9SaNsPXlp"
      },
      "execution_count": 18,
      "outputs": []
    },
    {
      "cell_type": "code",
      "source": [
        "print(X_train)"
      ],
      "metadata": {
        "colab": {
          "base_uri": "https://localhost:8080/"
        },
        "id": "HMw0iLj0nvcd",
        "outputId": "4d8cab88-0939-4de2-e4d0-a0cc80af9197"
      },
      "execution_count": 19,
      "outputs": [
        {
          "output_type": "stream",
          "name": "stdout",
          "text": [
            "[[ 0.          0.          0.         -0.37796447  0.          0.\n",
            "  -0.37796447 -0.37796447 -0.37796447  2.64575131 -0.19159184 -1.07812594]\n",
            " [ 0.          0.          0.         -0.37796447  0.          0.\n",
            "  -0.37796447 -0.37796447  2.64575131 -0.37796447 -0.01411729 -0.07013168]\n",
            " [ 0.          1.          0.         -0.37796447  0.          0.\n",
            "  -0.37796447 -0.37796447 -0.37796447 -0.37796447  0.56670851  0.63356243]\n",
            " [ 0.          0.          0.         -0.37796447  0.          0.\n",
            "   2.64575131 -0.37796447 -0.37796447 -0.37796447 -0.30453019 -0.30786617]\n",
            " [ 0.          0.          0.         -0.37796447  0.          0.\n",
            "  -0.37796447  2.64575131 -0.37796447 -0.37796447 -1.90180114 -1.42046362]\n",
            " [ 0.          0.          1.         -0.37796447  0.          0.\n",
            "  -0.37796447 -0.37796447 -0.37796447 -0.37796447  1.14753431  1.23265336]\n",
            " [ 0.          0.          0.          2.64575131  0.          0.\n",
            "  -0.37796447 -0.37796447 -0.37796447 -0.37796447  1.43794721  1.57499104]\n",
            " [ 1.          0.          0.         -0.37796447  0.          0.\n",
            "  -0.37796447 -0.37796447 -0.37796447 -0.37796447 -0.74014954 -0.56461943]]\n"
          ]
        }
      ]
    },
    {
      "cell_type": "code",
      "source": [
        "print(X_test)"
      ],
      "metadata": {
        "colab": {
          "base_uri": "https://localhost:8080/"
        },
        "id": "9VI5n-99n0if",
        "outputId": "bce306aa-613d-49a3-b928-3304c6960932"
      },
      "execution_count": 20,
      "outputs": [
        {
          "output_type": "stream",
          "name": "stdout",
          "text": [
            "[[ 0.          0.          0.         -0.37796447  1.          0.\n",
            "  -0.37796447 -0.37796447 -0.37796447 -0.37796447 -1.46618179 -0.9069571 ]\n",
            " [ 0.          0.          0.         -0.37796447  0.          1.\n",
            "  -0.37796447 -0.37796447 -0.37796447 -0.37796447 -0.44973664  0.20564034]]\n"
          ]
        }
      ]
    }
  ]
}